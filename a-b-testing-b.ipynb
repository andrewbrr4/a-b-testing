{
 "cells": [
  {
   "cell_type": "code",
   "execution_count": 1,
   "id": "a6e21406",
   "metadata": {
    "_cell_guid": "b1076dfc-b9ad-4769-8c92-a6c4dae69d19",
    "_uuid": "8f2839f25d086af736a60e9eeb907d3b93b6e0e5",
    "execution": {
     "iopub.execute_input": "2022-06-14T20:50:17.556781Z",
     "iopub.status.busy": "2022-06-14T20:50:17.555677Z",
     "iopub.status.idle": "2022-06-14T20:50:18.408365Z",
     "shell.execute_reply": "2022-06-14T20:50:18.407150Z"
    },
    "papermill": {
     "duration": 0.870531,
     "end_time": "2022-06-14T20:50:18.411951",
     "exception": false,
     "start_time": "2022-06-14T20:50:17.541420",
     "status": "completed"
    },
    "tags": []
   },
   "outputs": [
    {
     "name": "stdout",
     "output_type": "stream",
     "text": [
      "/kaggle/input/mobile-games-ab-testing/cookie_cats.csv\n"
     ]
    }
   ],
   "source": [
    "# This Python 3 environment comes with many helpful analytics libraries installed\n",
    "# It is defined by the kaggle/python Docker image: https://github.com/kaggle/docker-python\n",
    "# For example, here's several helpful packages to load\n",
    "\n",
    "import numpy as np # linear algebra\n",
    "import pandas as pd # data processing, CSV file I/O (e.g. pd.read_csv)\n",
    "from scipy.stats import stats\n",
    "\n",
    "# Input data files are available in the read-only \"../input/\" directory\n",
    "# For example, running this (by clicking run or pressing Shift+Enter) will list all files under the input directory\n",
    "\n",
    "import os\n",
    "for dirname, _, filenames in os.walk('/kaggle/input'):\n",
    "    for filename in filenames:\n",
    "        print(os.path.join(dirname, filename))\n",
    "\n",
    "# You can write up to 20GB to the current directory (/kaggle/working/) that gets preserved as output when you create a version using \"Save & Run All\" \n",
    "# You can also write temporary files to /kaggle/temp/, but they won't be saved outside of the current session"
   ]
  },
  {
   "cell_type": "code",
   "execution_count": 2,
   "id": "c7bc361d",
   "metadata": {
    "execution": {
     "iopub.execute_input": "2022-06-14T20:50:18.430524Z",
     "iopub.status.busy": "2022-06-14T20:50:18.429986Z",
     "iopub.status.idle": "2022-06-14T20:50:18.534388Z",
     "shell.execute_reply": "2022-06-14T20:50:18.533326Z"
    },
    "papermill": {
     "duration": 0.116511,
     "end_time": "2022-06-14T20:50:18.536950",
     "exception": false,
     "start_time": "2022-06-14T20:50:18.420439",
     "status": "completed"
    },
    "tags": []
   },
   "outputs": [],
   "source": [
    "df = pd.read_csv('/kaggle/input/mobile-games-ab-testing/cookie_cats.csv')"
   ]
  },
  {
   "cell_type": "code",
   "execution_count": 3,
   "id": "55c42ca0",
   "metadata": {
    "execution": {
     "iopub.execute_input": "2022-06-14T20:50:18.555136Z",
     "iopub.status.busy": "2022-06-14T20:50:18.554627Z",
     "iopub.status.idle": "2022-06-14T20:50:18.740475Z",
     "shell.execute_reply": "2022-06-14T20:50:18.739759Z"
    },
    "papermill": {
     "duration": 0.197651,
     "end_time": "2022-06-14T20:50:18.742519",
     "exception": false,
     "start_time": "2022-06-14T20:50:18.544868",
     "status": "completed"
    },
    "tags": []
   },
   "outputs": [
    {
     "data": {
      "text/html": [
       "<div>\n",
       "<style scoped>\n",
       "    .dataframe tbody tr th:only-of-type {\n",
       "        vertical-align: middle;\n",
       "    }\n",
       "\n",
       "    .dataframe tbody tr th {\n",
       "        vertical-align: top;\n",
       "    }\n",
       "\n",
       "    .dataframe thead th {\n",
       "        text-align: right;\n",
       "    }\n",
       "</style>\n",
       "<table border=\"1\" class=\"dataframe\">\n",
       "  <thead>\n",
       "    <tr style=\"text-align: right;\">\n",
       "      <th></th>\n",
       "      <th>userid</th>\n",
       "      <th>version</th>\n",
       "      <th>sum_gamerounds</th>\n",
       "      <th>retention_1</th>\n",
       "      <th>retention_7</th>\n",
       "    </tr>\n",
       "  </thead>\n",
       "  <tbody>\n",
       "    <tr>\n",
       "      <th>0</th>\n",
       "      <td>116</td>\n",
       "      <td>gate_30</td>\n",
       "      <td>3</td>\n",
       "      <td>False</td>\n",
       "      <td>False</td>\n",
       "    </tr>\n",
       "    <tr>\n",
       "      <th>1</th>\n",
       "      <td>337</td>\n",
       "      <td>gate_30</td>\n",
       "      <td>38</td>\n",
       "      <td>True</td>\n",
       "      <td>False</td>\n",
       "    </tr>\n",
       "    <tr>\n",
       "      <th>2</th>\n",
       "      <td>377</td>\n",
       "      <td>gate_40</td>\n",
       "      <td>165</td>\n",
       "      <td>True</td>\n",
       "      <td>False</td>\n",
       "    </tr>\n",
       "    <tr>\n",
       "      <th>3</th>\n",
       "      <td>483</td>\n",
       "      <td>gate_40</td>\n",
       "      <td>1</td>\n",
       "      <td>False</td>\n",
       "      <td>False</td>\n",
       "    </tr>\n",
       "    <tr>\n",
       "      <th>4</th>\n",
       "      <td>488</td>\n",
       "      <td>gate_40</td>\n",
       "      <td>179</td>\n",
       "      <td>True</td>\n",
       "      <td>True</td>\n",
       "    </tr>\n",
       "  </tbody>\n",
       "</table>\n",
       "</div>"
      ],
      "text/plain": [
       "   userid  version  sum_gamerounds  retention_1  retention_7\n",
       "0     116  gate_30               3        False        False\n",
       "1     337  gate_30              38         True        False\n",
       "2     377  gate_40             165         True        False\n",
       "3     483  gate_40               1        False        False\n",
       "4     488  gate_40             179         True         True"
      ]
     },
     "execution_count": 3,
     "metadata": {},
     "output_type": "execute_result"
    }
   ],
   "source": [
    "df.head()"
   ]
  },
  {
   "cell_type": "markdown",
   "id": "bd41b234",
   "metadata": {
    "papermill": {
     "duration": 0.00849,
     "end_time": "2022-06-14T20:50:18.759235",
     "exception": false,
     "start_time": "2022-06-14T20:50:18.750745",
     "status": "completed"
    },
    "tags": []
   },
   "source": [
    "# Boostrapping"
   ]
  },
  {
   "cell_type": "code",
   "execution_count": 4,
   "id": "7696aab2",
   "metadata": {
    "execution": {
     "iopub.execute_input": "2022-06-14T20:50:18.779403Z",
     "iopub.status.busy": "2022-06-14T20:50:18.778698Z",
     "iopub.status.idle": "2022-06-14T20:50:18.804129Z",
     "shell.execute_reply": "2022-06-14T20:50:18.803175Z"
    },
    "papermill": {
     "duration": 0.038073,
     "end_time": "2022-06-14T20:50:18.806308",
     "exception": false,
     "start_time": "2022-06-14T20:50:18.768235",
     "status": "completed"
    },
    "tags": []
   },
   "outputs": [
    {
     "data": {
      "text/plain": [
       "version\n",
       "gate_30    44700\n",
       "gate_40    45489\n",
       "Name: userid, dtype: int64"
      ]
     },
     "execution_count": 4,
     "metadata": {},
     "output_type": "execute_result"
    }
   ],
   "source": [
    "# Counting the number of players in each AB group.\n",
    "df.groupby('version')['userid'].count()"
   ]
  },
  {
   "cell_type": "code",
   "execution_count": 5,
   "id": "3ff4650e",
   "metadata": {
    "execution": {
     "iopub.execute_input": "2022-06-14T20:50:18.824494Z",
     "iopub.status.busy": "2022-06-14T20:50:18.824018Z",
     "iopub.status.idle": "2022-06-14T20:50:19.086840Z",
     "shell.execute_reply": "2022-06-14T20:50:19.085879Z"
    },
    "papermill": {
     "duration": 0.275815,
     "end_time": "2022-06-14T20:50:19.090358",
     "exception": false,
     "start_time": "2022-06-14T20:50:18.814543",
     "status": "completed"
    },
    "tags": []
   },
   "outputs": [
    {
     "data": {
      "image/png": "[encoded data removed]",
      "text/plain": [
       "<Figure size 432x288 with 1 Axes>"
      ]
     },
     "metadata": {
      "needs_background": "light"
     },
     "output_type": "display_data"
    }
   ],
   "source": [
    "# This command makes plots appear in the notebook\n",
    "%matplotlib inline\n",
    "\n",
    "# Counting the number of players for each number of gamerounds \n",
    "plot_df = df.groupby('sum_gamerounds')['userid'].count()\n",
    "\n",
    "# Plotting the distribution of players that played 0 to 100 game rounds\n",
    "ax = plot_df.head(100).plot(x='sum_gamerounds',y='user_id',kind='hist')"
   ]
  },
  {
   "cell_type": "code",
   "execution_count": 6,
   "id": "b4a586b6",
   "metadata": {
    "execution": {
     "iopub.execute_input": "2022-06-14T20:50:19.110145Z",
     "iopub.status.busy": "2022-06-14T20:50:19.109678Z",
     "iopub.status.idle": "2022-06-14T20:50:19.117230Z",
     "shell.execute_reply": "2022-06-14T20:50:19.116076Z"
    },
    "papermill": {
     "duration": 0.01968,
     "end_time": "2022-06-14T20:50:19.119345",
     "exception": false,
     "start_time": "2022-06-14T20:50:19.099665",
     "status": "completed"
    },
    "tags": []
   },
   "outputs": [
    {
     "data": {
      "text/plain": [
       "0.4452095044850259"
      ]
     },
     "execution_count": 6,
     "metadata": {},
     "output_type": "execute_result"
    }
   ],
   "source": [
    "# The % of users that came back the day after they installed\n",
    "df['retention_1'].mean()"
   ]
  },
  {
   "cell_type": "code",
   "execution_count": 7,
   "id": "0a33bd93",
   "metadata": {
    "execution": {
     "iopub.execute_input": "2022-06-14T20:50:19.139570Z",
     "iopub.status.busy": "2022-06-14T20:50:19.138775Z",
     "iopub.status.idle": "2022-06-14T20:50:19.160488Z",
     "shell.execute_reply": "2022-06-14T20:50:19.159331Z"
    },
    "papermill": {
     "duration": 0.034561,
     "end_time": "2022-06-14T20:50:19.162733",
     "exception": false,
     "start_time": "2022-06-14T20:50:19.128172",
     "status": "completed"
    },
    "tags": []
   },
   "outputs": [
    {
     "data": {
      "text/plain": [
       "version\n",
       "gate_30    0.448188\n",
       "gate_40    0.442283\n",
       "Name: retention_1, dtype: float64"
      ]
     },
     "execution_count": 7,
     "metadata": {},
     "output_type": "execute_result"
    }
   ],
   "source": [
    "# Calculating 1-day retention for each AB-group\n",
    "df.groupby('version')['retention_1'].mean()"
   ]
  },
  {
   "cell_type": "code",
   "execution_count": 8,
   "id": "2d56cae1",
   "metadata": {
    "execution": {
     "iopub.execute_input": "2022-06-14T20:50:19.182617Z",
     "iopub.status.busy": "2022-06-14T20:50:19.181826Z",
     "iopub.status.idle": "2022-06-14T20:50:28.987906Z",
     "shell.execute_reply": "2022-06-14T20:50:28.986541Z"
    },
    "papermill": {
     "duration": 9.819228,
     "end_time": "2022-06-14T20:50:28.990578",
     "exception": false,
     "start_time": "2022-06-14T20:50:19.171350",
     "status": "completed"
    },
    "tags": []
   },
   "outputs": [
    {
     "data": {
      "text/plain": [
       "<AxesSubplot:ylabel='Density'>"
      ]
     },
     "execution_count": 8,
     "metadata": {},
     "output_type": "execute_result"
    },
    {
     "data": {
      "image/png": "[encoded data removed]",
      "text/plain": [
       "<Figure size 432x288 with 1 Axes>"
      ]
     },
     "metadata": {
      "needs_background": "light"
     },
     "output_type": "display_data"
    }
   ],
   "source": [
    "# Creating an list with bootstrapped means for each AB-group\n",
    "boot_1d = []\n",
    "for i in range(500):\n",
    "    boot_mean = df.sample(frac=1,replace=True).groupby('version')['retention_1'].mean()\n",
    "    boot_1d.append(boot_mean)\n",
    "    \n",
    "# Transforming the list to a DataFrame\n",
    "boot_1d = pd.DataFrame(boot_1d).reset_index()\n",
    "boot_1d.drop('index',axis=1,inplace=True)\n",
    "\n",
    "# A Kernel Density Estimate plot of the bootstrap distributions\n",
    "boot_1d.plot(kind='density')"
   ]
  },
  {
   "cell_type": "code",
   "execution_count": 9,
   "id": "205e202d",
   "metadata": {
    "execution": {
     "iopub.execute_input": "2022-06-14T20:50:29.012269Z",
     "iopub.status.busy": "2022-06-14T20:50:29.011731Z",
     "iopub.status.idle": "2022-06-14T20:50:29.204425Z",
     "shell.execute_reply": "2022-06-14T20:50:29.203688Z"
    },
    "papermill": {
     "duration": 0.206514,
     "end_time": "2022-06-14T20:50:29.206517",
     "exception": false,
     "start_time": "2022-06-14T20:50:29.000003",
     "status": "completed"
    },
    "tags": []
   },
   "outputs": [
    {
     "data": {
      "image/png": "[encoded data removed]",
      "text/plain": [
       "<Figure size 432x288 with 1 Axes>"
      ]
     },
     "metadata": {
      "needs_background": "light"
     },
     "output_type": "display_data"
    }
   ],
   "source": [
    "# Adding a column with the % difference between the two AB-groups\n",
    "boot_1d['diff'] = (boot_1d['gate_30'] - boot_1d['gate_40'])/boot_1d['gate_40'] * 100\n",
    "\n",
    "# Ploting the bootstrap % difference\n",
    "ax = boot_1d['diff'].plot(kind='density')"
   ]
  },
  {
   "cell_type": "code",
   "execution_count": 10,
   "id": "078208fa",
   "metadata": {
    "execution": {
     "iopub.execute_input": "2022-06-14T20:50:29.228526Z",
     "iopub.status.busy": "2022-06-14T20:50:29.227524Z",
     "iopub.status.idle": "2022-06-14T20:50:29.234419Z",
     "shell.execute_reply": "2022-06-14T20:50:29.233466Z"
    },
    "papermill": {
     "duration": 0.021356,
     "end_time": "2022-06-14T20:50:29.237574",
     "exception": false,
     "start_time": "2022-06-14T20:50:29.216218",
     "status": "completed"
    },
    "tags": []
   },
   "outputs": [
    {
     "name": "stdout",
     "output_type": "stream",
     "text": [
      "96.4%\n"
     ]
    }
   ],
   "source": [
    "# Calculating the probability that 1-day retention is greater when the gate is at level 30\n",
    "prob = (boot_1d['diff'] > 0).mean()\n",
    "\n",
    "# Pretty printing the probability\n",
    "print('{:.1%}'.format(prob))"
   ]
  },
  {
   "cell_type": "code",
   "execution_count": 11,
   "id": "0170478e",
   "metadata": {
    "execution": {
     "iopub.execute_input": "2022-06-14T20:50:29.259283Z",
     "iopub.status.busy": "2022-06-14T20:50:29.258589Z",
     "iopub.status.idle": "2022-06-14T20:50:39.142950Z",
     "shell.execute_reply": "2022-06-14T20:50:39.141788Z"
    },
    "papermill": {
     "duration": 9.897918,
     "end_time": "2022-06-14T20:50:39.145263",
     "exception": false,
     "start_time": "2022-06-14T20:50:29.247345",
     "status": "completed"
    },
    "tags": []
   },
   "outputs": [
    {
     "name": "stdout",
     "output_type": "stream",
     "text": [
      "97.0%\n"
     ]
    },
    {
     "data": {
      "image/png": "[encoded data removed]",
      "text/plain": [
       "<Figure size 432x288 with 1 Axes>"
      ]
     },
     "metadata": {
      "needs_background": "light"
     },
     "output_type": "display_data"
    }
   ],
   "source": [
    "# Creating an list with bootstrapped means for each AB-group\n",
    "boot_1d = []\n",
    "for i in range(500):\n",
    "    boot_mean = df.sample(frac=1,replace=True).groupby('version')['retention_1'].mean()\n",
    "    boot_1d.append(boot_mean)\n",
    "    \n",
    "# Transforming the list to a DataFrame\n",
    "boot_1d = pd.DataFrame(boot_1d).reset_index()\n",
    "boot_1d.drop('index',axis=1,inplace=True)\n",
    "\n",
    "# Adding a column with the % difference between the two AB-groups\n",
    "boot_1d['diff'] = (boot_1d['gate_30'] - boot_1d['gate_40'])/boot_1d['gate_40'] * 100\n",
    "\n",
    "# Ploting the bootstrap % difference\n",
    "ax = boot_1d['diff'].plot(kind='density')\n",
    "\n",
    "# Calculating the probability that 1-day retention is greater when the gate is at level 30\n",
    "prob = (boot_1d['diff'] > 0).mean()\n",
    "\n",
    "# Pretty printing the probability\n",
    "print('{:.1%}'.format(prob))"
   ]
  },
  {
   "cell_type": "markdown",
   "id": "927ef77f",
   "metadata": {
    "papermill": {
     "duration": 0.009839,
     "end_time": "2022-06-14T20:50:39.165252",
     "exception": false,
     "start_time": "2022-06-14T20:50:39.155413",
     "status": "completed"
    },
    "tags": []
   },
   "source": [
    "# Chi-Squared Test"
   ]
  },
  {
   "cell_type": "code",
   "execution_count": 12,
   "id": "58ff5f2a",
   "metadata": {
    "execution": {
     "iopub.execute_input": "2022-06-14T20:50:39.187400Z",
     "iopub.status.busy": "2022-06-14T20:50:39.186921Z",
     "iopub.status.idle": "2022-06-14T20:50:39.235973Z",
     "shell.execute_reply": "2022-06-14T20:50:39.234779Z"
    },
    "papermill": {
     "duration": 0.062985,
     "end_time": "2022-06-14T20:50:39.238302",
     "exception": false,
     "start_time": "2022-06-14T20:50:39.175317",
     "status": "completed"
    },
    "tags": []
   },
   "outputs": [
    {
     "data": {
      "text/html": [
       "<div>\n",
       "<style scoped>\n",
       "    .dataframe tbody tr th:only-of-type {\n",
       "        vertical-align: middle;\n",
       "    }\n",
       "\n",
       "    .dataframe tbody tr th {\n",
       "        vertical-align: top;\n",
       "    }\n",
       "\n",
       "    .dataframe thead th {\n",
       "        text-align: right;\n",
       "    }\n",
       "</style>\n",
       "<table border=\"1\" class=\"dataframe\">\n",
       "  <thead>\n",
       "    <tr style=\"text-align: right;\">\n",
       "      <th>retention_7</th>\n",
       "      <th>False</th>\n",
       "      <th>True</th>\n",
       "    </tr>\n",
       "    <tr>\n",
       "      <th>version</th>\n",
       "      <th></th>\n",
       "      <th></th>\n",
       "    </tr>\n",
       "  </thead>\n",
       "  <tbody>\n",
       "    <tr>\n",
       "      <th>gate_30</th>\n",
       "      <td>36198</td>\n",
       "      <td>8502</td>\n",
       "    </tr>\n",
       "    <tr>\n",
       "      <th>gate_40</th>\n",
       "      <td>37210</td>\n",
       "      <td>8279</td>\n",
       "    </tr>\n",
       "  </tbody>\n",
       "</table>\n",
       "</div>"
      ],
      "text/plain": [
       "retention_7  False  True\n",
       "version                 \n",
       "gate_30      36198  8502\n",
       "gate_40      37210  8279"
      ]
     },
     "execution_count": 12,
     "metadata": {},
     "output_type": "execute_result"
    }
   ],
   "source": [
    "contingency = pd.crosstab(df['version'],df['retention_7'])\n",
    "\n",
    "contingency"
   ]
  },
  {
   "cell_type": "code",
   "execution_count": 13,
   "id": "d4ea589f",
   "metadata": {
    "execution": {
     "iopub.execute_input": "2022-06-14T20:50:39.261595Z",
     "iopub.status.busy": "2022-06-14T20:50:39.261114Z",
     "iopub.status.idle": "2022-06-14T20:50:39.268185Z",
     "shell.execute_reply": "2022-06-14T20:50:39.266945Z"
    },
    "papermill": {
     "duration": 0.022681,
     "end_time": "2022-06-14T20:50:39.271673",
     "exception": false,
     "start_time": "2022-06-14T20:50:39.248992",
     "status": "completed"
    },
    "tags": []
   },
   "outputs": [
    {
     "name": "stdout",
     "output_type": "stream",
     "text": [
      "p_value: 0.0016005742679058301\n"
     ]
    }
   ],
   "source": [
    "from scipy.stats import chi2_contingency\n",
    "\n",
    "# Chi-square test of independence.\n",
    "c, p, dof, expected = chi2_contingency(contingency)\n",
    "\n",
    "print ('p_value: {}'.format(p))"
   ]
  },
  {
   "cell_type": "markdown",
   "id": "c99eaf99",
   "metadata": {
    "papermill": {
     "duration": 0.010271,
     "end_time": "2022-06-14T20:50:39.293542",
     "exception": false,
     "start_time": "2022-06-14T20:50:39.283271",
     "status": "completed"
    },
    "tags": []
   },
   "source": [
    "# T-Test"
   ]
  },
  {
   "cell_type": "code",
   "execution_count": 14,
   "id": "c89e932c",
   "metadata": {
    "execution": {
     "iopub.execute_input": "2022-06-14T20:50:39.316157Z",
     "iopub.status.busy": "2022-06-14T20:50:39.315759Z",
     "iopub.status.idle": "2022-06-14T20:50:39.323679Z",
     "shell.execute_reply": "2022-06-14T20:50:39.322799Z"
    },
    "papermill": {
     "duration": 0.021872,
     "end_time": "2022-06-14T20:50:39.325721",
     "exception": false,
     "start_time": "2022-06-14T20:50:39.303849",
     "status": "completed"
    },
    "tags": []
   },
   "outputs": [
    {
     "data": {
      "text/plain": [
       "51.8724567297564"
      ]
     },
     "execution_count": 14,
     "metadata": {},
     "output_type": "execute_result"
    }
   ],
   "source": [
    "df['sum_gamerounds'].mean()"
   ]
  },
  {
   "cell_type": "code",
   "execution_count": 15,
   "id": "e76946e7",
   "metadata": {
    "execution": {
     "iopub.execute_input": "2022-06-14T20:50:39.349468Z",
     "iopub.status.busy": "2022-06-14T20:50:39.348474Z",
     "iopub.status.idle": "2022-06-14T20:50:39.378048Z",
     "shell.execute_reply": "2022-06-14T20:50:39.377025Z"
    },
    "papermill": {
     "duration": 0.043886,
     "end_time": "2022-06-14T20:50:39.380077",
     "exception": false,
     "start_time": "2022-06-14T20:50:39.336191",
     "status": "completed"
    },
    "tags": []
   },
   "outputs": [
    {
     "data": {
      "text/html": [
       "<div>\n",
       "<style scoped>\n",
       "    .dataframe tbody tr th:only-of-type {\n",
       "        vertical-align: middle;\n",
       "    }\n",
       "\n",
       "    .dataframe tbody tr th {\n",
       "        vertical-align: top;\n",
       "    }\n",
       "\n",
       "    .dataframe thead th {\n",
       "        text-align: right;\n",
       "    }\n",
       "</style>\n",
       "<table border=\"1\" class=\"dataframe\">\n",
       "  <thead>\n",
       "    <tr style=\"text-align: right;\">\n",
       "      <th></th>\n",
       "      <th>mean</th>\n",
       "      <th>std</th>\n",
       "      <th>var</th>\n",
       "    </tr>\n",
       "    <tr>\n",
       "      <th>version</th>\n",
       "      <th></th>\n",
       "      <th></th>\n",
       "      <th></th>\n",
       "    </tr>\n",
       "  </thead>\n",
       "  <tbody>\n",
       "    <tr>\n",
       "      <th>gate_30</th>\n",
       "      <td>52.456264</td>\n",
       "      <td>256.716423</td>\n",
       "      <td>65903.321897</td>\n",
       "    </tr>\n",
       "    <tr>\n",
       "      <th>gate_40</th>\n",
       "      <td>51.298776</td>\n",
       "      <td>103.294416</td>\n",
       "      <td>10669.736422</td>\n",
       "    </tr>\n",
       "  </tbody>\n",
       "</table>\n",
       "</div>"
      ],
      "text/plain": [
       "              mean         std           var\n",
       "version                                     \n",
       "gate_30  52.456264  256.716423  65903.321897\n",
       "gate_40  51.298776  103.294416  10669.736422"
      ]
     },
     "execution_count": 15,
     "metadata": {},
     "output_type": "execute_result"
    }
   ],
   "source": [
    "df.groupby('version')['sum_gamerounds'].agg(['mean','std','var'])"
   ]
  },
  {
   "cell_type": "code",
   "execution_count": 16,
   "id": "2be42c0a",
   "metadata": {
    "execution": {
     "iopub.execute_input": "2022-06-14T20:50:39.404900Z",
     "iopub.status.busy": "2022-06-14T20:50:39.403306Z",
     "iopub.status.idle": "2022-06-14T20:50:39.414613Z",
     "shell.execute_reply": "2022-06-14T20:50:39.413795Z"
    },
    "papermill": {
     "duration": 0.026119,
     "end_time": "2022-06-14T20:50:39.417051",
     "exception": false,
     "start_time": "2022-06-14T20:50:39.390932",
     "status": "completed"
    },
    "tags": []
   },
   "outputs": [
    {
     "data": {
      "text/plain": [
       "195.04977619395936"
      ]
     },
     "execution_count": 16,
     "metadata": {},
     "output_type": "execute_result"
    }
   ],
   "source": [
    "np.std(df['sum_gamerounds'])"
   ]
  },
  {
   "cell_type": "code",
   "execution_count": 17,
   "id": "04a88282",
   "metadata": {
    "execution": {
     "iopub.execute_input": "2022-06-14T20:50:39.441411Z",
     "iopub.status.busy": "2022-06-14T20:50:39.440839Z",
     "iopub.status.idle": "2022-06-14T20:50:39.457602Z",
     "shell.execute_reply": "2022-06-14T20:50:39.456541Z"
    },
    "papermill": {
     "duration": 0.031608,
     "end_time": "2022-06-14T20:50:39.459873",
     "exception": false,
     "start_time": "2022-06-14T20:50:39.428265",
     "status": "completed"
    },
    "tags": []
   },
   "outputs": [
    {
     "data": {
      "text/plain": [
       "count    90189.000000\n",
       "mean        51.872457\n",
       "std        195.050858\n",
       "min          0.000000\n",
       "25%          5.000000\n",
       "50%         16.000000\n",
       "75%         51.000000\n",
       "max      49854.000000\n",
       "Name: sum_gamerounds, dtype: float64"
      ]
     },
     "execution_count": 17,
     "metadata": {},
     "output_type": "execute_result"
    }
   ],
   "source": [
    "df['sum_gamerounds'].describe()"
   ]
  },
  {
   "cell_type": "code",
   "execution_count": 18,
   "id": "ee7d8c65",
   "metadata": {
    "execution": {
     "iopub.execute_input": "2022-06-14T20:50:39.484750Z",
     "iopub.status.busy": "2022-06-14T20:50:39.483739Z",
     "iopub.status.idle": "2022-06-14T20:50:39.691287Z",
     "shell.execute_reply": "2022-06-14T20:50:39.690512Z"
    },
    "papermill": {
     "duration": 0.222261,
     "end_time": "2022-06-14T20:50:39.693144",
     "exception": false,
     "start_time": "2022-06-14T20:50:39.470883",
     "status": "completed"
    },
    "tags": []
   },
   "outputs": [
    {
     "data": {
      "text/plain": [
       "<AxesSubplot:ylabel='Frequency'>"
      ]
     },
     "execution_count": 18,
     "metadata": {},
     "output_type": "execute_result"
    },
    {
     "data": {
      "image/png": "[encoded data removed]",
      "text/plain": [
       "<Figure size 432x288 with 1 Axes>"
      ]
     },
     "metadata": {
      "needs_background": "light"
     },
     "output_type": "display_data"
    }
   ],
   "source": [
    "df['sum_gamerounds'].plot(kind='hist')"
   ]
  },
  {
   "cell_type": "code",
   "execution_count": 19,
   "id": "805a59db",
   "metadata": {
    "execution": {
     "iopub.execute_input": "2022-06-14T20:50:39.717571Z",
     "iopub.status.busy": "2022-06-14T20:50:39.716885Z",
     "iopub.status.idle": "2022-06-14T20:50:40.081480Z",
     "shell.execute_reply": "2022-06-14T20:50:40.080216Z"
    },
    "papermill": {
     "duration": 0.37981,
     "end_time": "2022-06-14T20:50:40.083913",
     "exception": false,
     "start_time": "2022-06-14T20:50:39.704103",
     "status": "completed"
    },
    "tags": []
   },
   "outputs": [
    {
     "data": {
      "text/plain": [
       "<AxesSubplot:xlabel='index'>"
      ]
     },
     "execution_count": 19,
     "metadata": {},
     "output_type": "execute_result"
    },
    {
     "data": {
      "image/png": "[encoded data removed]",
      "text/plain": [
       "<Figure size 1440x360 with 1 Axes>"
      ]
     },
     "metadata": {
      "needs_background": "light"
     },
     "output_type": "display_data"
    }
   ],
   "source": [
    "df[df.version == \"gate_30\"].reset_index().set_index(\"index\").sum_gamerounds.plot(legend = True, label = \"Gate 30\", figsize = (20,5))\n",
    "df[df.version == \"gate_40\"].reset_index().set_index(\"index\").sum_gamerounds.plot(legend = True, label = \"Gate 40\")"
   ]
  },
  {
   "cell_type": "code",
   "execution_count": 20,
   "id": "04a4c926",
   "metadata": {
    "execution": {
     "iopub.execute_input": "2022-06-14T20:50:40.111417Z",
     "iopub.status.busy": "2022-06-14T20:50:40.110080Z",
     "iopub.status.idle": "2022-06-14T20:50:40.120637Z",
     "shell.execute_reply": "2022-06-14T20:50:40.119804Z"
    },
    "papermill": {
     "duration": 0.027052,
     "end_time": "2022-06-14T20:50:40.122912",
     "exception": false,
     "start_time": "2022-06-14T20:50:40.095860",
     "status": "completed"
    },
    "tags": []
   },
   "outputs": [],
   "source": [
    "df = df[df['sum_gamerounds'] < df['sum_gamerounds'].max()]"
   ]
  },
  {
   "cell_type": "code",
   "execution_count": 21,
   "id": "7e8c2caf",
   "metadata": {
    "execution": {
     "iopub.execute_input": "2022-06-14T20:50:40.149366Z",
     "iopub.status.busy": "2022-06-14T20:50:40.148880Z",
     "iopub.status.idle": "2022-06-14T20:50:40.600049Z",
     "shell.execute_reply": "2022-06-14T20:50:40.598947Z"
    },
    "papermill": {
     "duration": 0.467505,
     "end_time": "2022-06-14T20:50:40.602379",
     "exception": false,
     "start_time": "2022-06-14T20:50:40.134874",
     "status": "completed"
    },
    "tags": []
   },
   "outputs": [
    {
     "data": {
      "text/plain": [
       "<AxesSubplot:xlabel='index'>"
      ]
     },
     "execution_count": 21,
     "metadata": {},
     "output_type": "execute_result"
    },
    {
     "data": {
      "image/png": "[encoded data removed]",
      "text/plain": [
       "<Figure size 1440x360 with 1 Axes>"
      ]
     },
     "metadata": {
      "needs_background": "light"
     },
     "output_type": "display_data"
    }
   ],
   "source": [
    "df[df.version == \"gate_30\"].reset_index().set_index(\"index\").sum_gamerounds.plot(legend = True, label = \"Gate 30\", figsize = (20,5))\n",
    "df[df.version == \"gate_40\"].reset_index().set_index(\"index\").sum_gamerounds.plot(legend = True, label = \"Gate 40\")"
   ]
  },
  {
   "cell_type": "code",
   "execution_count": 22,
   "id": "0b41e12a",
   "metadata": {
    "execution": {
     "iopub.execute_input": "2022-06-14T20:50:40.630954Z",
     "iopub.status.busy": "2022-06-14T20:50:40.630442Z",
     "iopub.status.idle": "2022-06-14T20:50:40.839186Z",
     "shell.execute_reply": "2022-06-14T20:50:40.838467Z"
    },
    "papermill": {
     "duration": 0.225499,
     "end_time": "2022-06-14T20:50:40.841425",
     "exception": false,
     "start_time": "2022-06-14T20:50:40.615926",
     "status": "completed"
    },
    "tags": []
   },
   "outputs": [
    {
     "data": {
      "text/plain": [
       "<AxesSubplot:ylabel='Frequency'>"
      ]
     },
     "execution_count": 22,
     "metadata": {},
     "output_type": "execute_result"
    },
    {
     "data": {
      "image/png": "[encoded data removed]",
      "text/plain": [
       "<Figure size 432x288 with 1 Axes>"
      ]
     },
     "metadata": {
      "needs_background": "light"
     },
     "output_type": "display_data"
    }
   ],
   "source": [
    "df['sum_gamerounds'].plot(kind='hist')"
   ]
  },
  {
   "cell_type": "code",
   "execution_count": 23,
   "id": "6974377f",
   "metadata": {
    "execution": {
     "iopub.execute_input": "2022-06-14T20:50:40.871227Z",
     "iopub.status.busy": "2022-06-14T20:50:40.870121Z",
     "iopub.status.idle": "2022-06-14T20:50:40.890627Z",
     "shell.execute_reply": "2022-06-14T20:50:40.888514Z"
    },
    "papermill": {
     "duration": 0.038614,
     "end_time": "2022-06-14T20:50:40.893538",
     "exception": false,
     "start_time": "2022-06-14T20:50:40.854924",
     "status": "completed"
    },
    "tags": []
   },
   "outputs": [
    {
     "name": "stderr",
     "output_type": "stream",
     "text": [
      "/opt/conda/lib/python3.7/site-packages/scipy/stats/morestats.py:1760: UserWarning: p-value may not be accurate for N > 5000.\n",
      "  warnings.warn(\"p-value may not be accurate for N > 5000.\")\n"
     ]
    },
    {
     "data": {
      "text/plain": [
       "ShapiroResult(statistic=0.48558586835861206, pvalue=0.0)"
      ]
     },
     "execution_count": 23,
     "metadata": {},
     "output_type": "execute_result"
    }
   ],
   "source": [
    "from scipy.stats import shapiro\n",
    "\n",
    "shapiro(df['sum_gamerounds'])"
   ]
  },
  {
   "cell_type": "code",
   "execution_count": 24,
   "id": "6a6aa262",
   "metadata": {
    "execution": {
     "iopub.execute_input": "2022-06-14T20:50:40.923277Z",
     "iopub.status.busy": "2022-06-14T20:50:40.922818Z",
     "iopub.status.idle": "2022-06-14T20:50:40.975881Z",
     "shell.execute_reply": "2022-06-14T20:50:40.973923Z"
    },
    "papermill": {
     "duration": 0.071036,
     "end_time": "2022-06-14T20:50:40.978324",
     "exception": false,
     "start_time": "2022-06-14T20:50:40.907288",
     "status": "completed"
    },
    "tags": []
   },
   "outputs": [
    {
     "name": "stdout",
     "output_type": "stream",
     "text": [
      "Not Normal\n"
     ]
    }
   ],
   "source": [
    "# Split A/B\n",
    "groupA = df[df['version'] == \"gate_30\"]['sum_gamerounds']\n",
    "groupB = df[df['version'] == \"gate_40\"]['sum_gamerounds']\n",
    "    \n",
    "# Assumption: Normality\n",
    "ntA = shapiro(groupA)[1] < 0.05\n",
    "ntB = shapiro(groupB)[1] < 0.05\n",
    "# H0: Distribution is Normal! - False\n",
    "# H1: Distribution is not Normal! - True\n",
    "    \n",
    "if (ntA == False) & (ntB == False): # \"H0: Normal Distribution\"\n",
    "    print('Normal')   \n",
    "else:\n",
    "    print('Not Normal')"
   ]
  },
  {
   "cell_type": "code",
   "execution_count": null,
   "id": "0ad6c39b",
   "metadata": {
    "papermill": {
     "duration": 0.013482,
     "end_time": "2022-06-14T20:50:41.005772",
     "exception": false,
     "start_time": "2022-06-14T20:50:40.992290",
     "status": "completed"
    },
    "tags": []
   },
   "outputs": [],
   "source": []
  }
 ],
 "metadata": {
  "kernelspec": {
   "display_name": "Python 3",
   "language": "python",
   "name": "python3"
  },
  "language_info": {
   "codemirror_mode": {
    "name": "ipython",
    "version": 3
   },
   "file_extension": ".py",
   "mimetype": "text/x-python",
   "name": "python",
   "nbconvert_exporter": "python",
   "pygments_lexer": "ipython3",
   "version": "3.7.12"
  },
  "papermill": {
   "default_parameters": {},
   "duration": 35.160815,
   "end_time": "2022-06-14T20:50:42.045547",
   "environment_variables": {},
   "exception": null,
   "input_path": "__notebook__.ipynb",
   "output_path": "__notebook__.ipynb",
   "parameters": {},
   "start_time": "2022-06-14T20:50:06.884732",
   "version": "2.3.4"
  }
 },
 "nbformat": 4,
 "nbformat_minor": 5
}
