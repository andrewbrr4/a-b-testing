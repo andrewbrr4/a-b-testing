{
 "cells": [
  {
   "cell_type": "code",
   "execution_count": 1,
   "id": "ecea6f8b",
   "metadata": {
    "_cell_guid": "b1076dfc-b9ad-4769-8c92-a6c4dae69d19",
    "_uuid": "8f2839f25d086af736a60e9eeb907d3b93b6e0e5",
    "execution": {
     "iopub.execute_input": "2022-06-14T18:05:15.911773Z",
     "iopub.status.busy": "2022-06-14T18:05:15.910838Z",
     "iopub.status.idle": "2022-06-14T18:05:15.927848Z",
     "shell.execute_reply": "2022-06-14T18:05:15.927163Z"
    },
    "papermill": {
     "duration": 0.028695,
     "end_time": "2022-06-14T18:05:15.931638",
     "exception": false,
     "start_time": "2022-06-14T18:05:15.902943",
     "status": "completed"
    },
    "tags": []
   },
   "outputs": [
    {
     "name": "stdout",
     "output_type": "stream",
     "text": [
      "/kaggle/input/mobile-games-ab-testing/cookie_cats.csv\n"
     ]
    }
   ],
   "source": [
    "# This Python 3 environment comes with many helpful analytics libraries installed\n",
    "# It is defined by the kaggle/python Docker image: https://github.com/kaggle/docker-python\n",
    "# For example, here's several helpful packages to load\n",
    "\n",
    "import numpy as np # linear algebra\n",
    "import pandas as pd # data processing, CSV file I/O (e.g. pd.read_csv)\n",
    "\n",
    "# Input data files are available in the read-only \"../input/\" directory\n",
    "# For example, running this (by clicking run or pressing Shift+Enter) will list all files under the input directory\n",
    "\n",
    "import os\n",
    "for dirname, _, filenames in os.walk('/kaggle/input'):\n",
    "    for filename in filenames:\n",
    "        print(os.path.join(dirname, filename))\n",
    "\n",
    "# You can write up to 20GB to the current directory (/kaggle/working/) that gets preserved as output when you create a version using \"Save & Run All\" \n",
    "# You can also write temporary files to /kaggle/temp/, but they won't be saved outside of the current session"
   ]
  },
  {
   "cell_type": "code",
   "execution_count": 2,
   "id": "2cfd4d56",
   "metadata": {
    "execution": {
     "iopub.execute_input": "2022-06-14T18:05:15.945191Z",
     "iopub.status.busy": "2022-06-14T18:05:15.944050Z",
     "iopub.status.idle": "2022-06-14T18:05:16.071464Z",
     "shell.execute_reply": "2022-06-14T18:05:16.070307Z"
    },
    "papermill": {
     "duration": 0.136685,
     "end_time": "2022-06-14T18:05:16.074410",
     "exception": false,
     "start_time": "2022-06-14T18:05:15.937725",
     "status": "completed"
    },
    "tags": []
   },
   "outputs": [],
   "source": [
    "df = pd.read_csv('/kaggle/input/mobile-games-ab-testing/cookie_cats.csv')"
   ]
  },
  {
   "cell_type": "code",
   "execution_count": 3,
   "id": "7e0ad540",
   "metadata": {
    "execution": {
     "iopub.execute_input": "2022-06-14T18:05:16.086981Z",
     "iopub.status.busy": "2022-06-14T18:05:16.086573Z",
     "iopub.status.idle": "2022-06-14T18:05:16.109669Z",
     "shell.execute_reply": "2022-06-14T18:05:16.108611Z"
    },
    "papermill": {
     "duration": 0.033338,
     "end_time": "2022-06-14T18:05:16.113048",
     "exception": false,
     "start_time": "2022-06-14T18:05:16.079710",
     "status": "completed"
    },
    "tags": []
   },
   "outputs": [
    {
     "data": {
      "text/html": [
       "<div>\n",
       "<style scoped>\n",
       "    .dataframe tbody tr th:only-of-type {\n",
       "        vertical-align: middle;\n",
       "    }\n",
       "\n",
       "    .dataframe tbody tr th {\n",
       "        vertical-align: top;\n",
       "    }\n",
       "\n",
       "    .dataframe thead th {\n",
       "        text-align: right;\n",
       "    }\n",
       "</style>\n",
       "<table border=\"1\" class=\"dataframe\">\n",
       "  <thead>\n",
       "    <tr style=\"text-align: right;\">\n",
       "      <th></th>\n",
       "      <th>userid</th>\n",
       "      <th>version</th>\n",
       "      <th>sum_gamerounds</th>\n",
       "      <th>retention_1</th>\n",
       "      <th>retention_7</th>\n",
       "    </tr>\n",
       "  </thead>\n",
       "  <tbody>\n",
       "    <tr>\n",
       "      <th>0</th>\n",
       "      <td>116</td>\n",
       "      <td>gate_30</td>\n",
       "      <td>3</td>\n",
       "      <td>False</td>\n",
       "      <td>False</td>\n",
       "    </tr>\n",
       "    <tr>\n",
       "      <th>1</th>\n",
       "      <td>337</td>\n",
       "      <td>gate_30</td>\n",
       "      <td>38</td>\n",
       "      <td>True</td>\n",
       "      <td>False</td>\n",
       "    </tr>\n",
       "    <tr>\n",
       "      <th>2</th>\n",
       "      <td>377</td>\n",
       "      <td>gate_40</td>\n",
       "      <td>165</td>\n",
       "      <td>True</td>\n",
       "      <td>False</td>\n",
       "    </tr>\n",
       "    <tr>\n",
       "      <th>3</th>\n",
       "      <td>483</td>\n",
       "      <td>gate_40</td>\n",
       "      <td>1</td>\n",
       "      <td>False</td>\n",
       "      <td>False</td>\n",
       "    </tr>\n",
       "    <tr>\n",
       "      <th>4</th>\n",
       "      <td>488</td>\n",
       "      <td>gate_40</td>\n",
       "      <td>179</td>\n",
       "      <td>True</td>\n",
       "      <td>True</td>\n",
       "    </tr>\n",
       "  </tbody>\n",
       "</table>\n",
       "</div>"
      ],
      "text/plain": [
       "   userid  version  sum_gamerounds  retention_1  retention_7\n",
       "0     116  gate_30               3        False        False\n",
       "1     337  gate_30              38         True        False\n",
       "2     377  gate_40             165         True        False\n",
       "3     483  gate_40               1        False        False\n",
       "4     488  gate_40             179         True         True"
      ]
     },
     "execution_count": 3,
     "metadata": {},
     "output_type": "execute_result"
    }
   ],
   "source": [
    "df.head()"
   ]
  },
  {
   "cell_type": "code",
   "execution_count": 4,
   "id": "664f2422",
   "metadata": {
    "execution": {
     "iopub.execute_input": "2022-06-14T18:05:16.126100Z",
     "iopub.status.busy": "2022-06-14T18:05:16.125721Z",
     "iopub.status.idle": "2022-06-14T18:05:16.164977Z",
     "shell.execute_reply": "2022-06-14T18:05:16.163805Z"
    },
    "papermill": {
     "duration": 0.048756,
     "end_time": "2022-06-14T18:05:16.167156",
     "exception": false,
     "start_time": "2022-06-14T18:05:16.118400",
     "status": "completed"
    },
    "tags": []
   },
   "outputs": [
    {
     "data": {
      "text/html": [
       "<div>\n",
       "<style scoped>\n",
       "    .dataframe tbody tr th:only-of-type {\n",
       "        vertical-align: middle;\n",
       "    }\n",
       "\n",
       "    .dataframe tbody tr th {\n",
       "        vertical-align: top;\n",
       "    }\n",
       "\n",
       "    .dataframe thead th {\n",
       "        text-align: right;\n",
       "    }\n",
       "</style>\n",
       "<table border=\"1\" class=\"dataframe\">\n",
       "  <thead>\n",
       "    <tr style=\"text-align: right;\">\n",
       "      <th></th>\n",
       "      <th>userid</th>\n",
       "      <th>sum_gamerounds</th>\n",
       "    </tr>\n",
       "  </thead>\n",
       "  <tbody>\n",
       "    <tr>\n",
       "      <th>count</th>\n",
       "      <td>9.018900e+04</td>\n",
       "      <td>90189.000000</td>\n",
       "    </tr>\n",
       "    <tr>\n",
       "      <th>mean</th>\n",
       "      <td>4.998412e+06</td>\n",
       "      <td>51.872457</td>\n",
       "    </tr>\n",
       "    <tr>\n",
       "      <th>std</th>\n",
       "      <td>2.883286e+06</td>\n",
       "      <td>195.050858</td>\n",
       "    </tr>\n",
       "    <tr>\n",
       "      <th>min</th>\n",
       "      <td>1.160000e+02</td>\n",
       "      <td>0.000000</td>\n",
       "    </tr>\n",
       "    <tr>\n",
       "      <th>25%</th>\n",
       "      <td>2.512230e+06</td>\n",
       "      <td>5.000000</td>\n",
       "    </tr>\n",
       "    <tr>\n",
       "      <th>50%</th>\n",
       "      <td>4.995815e+06</td>\n",
       "      <td>16.000000</td>\n",
       "    </tr>\n",
       "    <tr>\n",
       "      <th>75%</th>\n",
       "      <td>7.496452e+06</td>\n",
       "      <td>51.000000</td>\n",
       "    </tr>\n",
       "    <tr>\n",
       "      <th>max</th>\n",
       "      <td>9.999861e+06</td>\n",
       "      <td>49854.000000</td>\n",
       "    </tr>\n",
       "  </tbody>\n",
       "</table>\n",
       "</div>"
      ],
      "text/plain": [
       "             userid  sum_gamerounds\n",
       "count  9.018900e+04    90189.000000\n",
       "mean   4.998412e+06       51.872457\n",
       "std    2.883286e+06      195.050858\n",
       "min    1.160000e+02        0.000000\n",
       "25%    2.512230e+06        5.000000\n",
       "50%    4.995815e+06       16.000000\n",
       "75%    7.496452e+06       51.000000\n",
       "max    9.999861e+06    49854.000000"
      ]
     },
     "execution_count": 4,
     "metadata": {},
     "output_type": "execute_result"
    }
   ],
   "source": [
    "df.describe()"
   ]
  },
  {
   "cell_type": "markdown",
   "id": "4bfdbdf7",
   "metadata": {
    "papermill": {
     "duration": 0.005276,
     "end_time": "2022-06-14T18:05:16.177986",
     "exception": false,
     "start_time": "2022-06-14T18:05:16.172710",
     "status": "completed"
    },
    "tags": []
   },
   "source": [
    "# Boostrapping"
   ]
  },
  {
   "cell_type": "code",
   "execution_count": 5,
   "id": "1c4992a2",
   "metadata": {
    "execution": {
     "iopub.execute_input": "2022-06-14T18:05:16.190834Z",
     "iopub.status.busy": "2022-06-14T18:05:16.190346Z",
     "iopub.status.idle": "2022-06-14T18:05:16.209161Z",
     "shell.execute_reply": "2022-06-14T18:05:16.207897Z"
    },
    "papermill": {
     "duration": 0.028552,
     "end_time": "2022-06-14T18:05:16.211883",
     "exception": false,
     "start_time": "2022-06-14T18:05:16.183331",
     "status": "completed"
    },
    "tags": []
   },
   "outputs": [
    {
     "data": {
      "text/plain": [
       "version\n",
       "gate_30    44700\n",
       "gate_40    45489\n",
       "Name: userid, dtype: int64"
      ]
     },
     "execution_count": 5,
     "metadata": {},
     "output_type": "execute_result"
    }
   ],
   "source": [
    "# Counting the number of players in each AB group.\n",
    "df.groupby('version')['userid'].count()"
   ]
  },
  {
   "cell_type": "code",
   "execution_count": 6,
   "id": "b5831196",
   "metadata": {
    "execution": {
     "iopub.execute_input": "2022-06-14T18:05:16.226129Z",
     "iopub.status.busy": "2022-06-14T18:05:16.225293Z",
     "iopub.status.idle": "2022-06-14T18:05:16.489175Z",
     "shell.execute_reply": "2022-06-14T18:05:16.487976Z"
    },
    "papermill": {
     "duration": 0.273832,
     "end_time": "2022-06-14T18:05:16.491610",
     "exception": false,
     "start_time": "2022-06-14T18:05:16.217778",
     "status": "completed"
    },
    "tags": []
   },
   "outputs": [
    {
     "data": {
      "image/png": "[encoded data removed]",
      "text/plain": [
       "<Figure size 432x288 with 1 Axes>"
      ]
     },
     "metadata": {
      "needs_background": "light"
     },
     "output_type": "display_data"
    }
   ],
   "source": [
    "# This command makes plots appear in the notebook\n",
    "%matplotlib inline\n",
    "\n",
    "# Counting the number of players for each number of gamerounds \n",
    "plot_df = df.groupby('sum_gamerounds')['userid'].count()\n",
    "\n",
    "# Plotting the distribution of players that played 0 to 100 game rounds\n",
    "ax = plot_df.head(100).plot(x='sum_gamerounds',y='user_id',kind='hist')"
   ]
  },
  {
   "cell_type": "code",
   "execution_count": 7,
   "id": "ec925650",
   "metadata": {
    "execution": {
     "iopub.execute_input": "2022-06-14T18:05:16.506631Z",
     "iopub.status.busy": "2022-06-14T18:05:16.505565Z",
     "iopub.status.idle": "2022-06-14T18:05:16.515546Z",
     "shell.execute_reply": "2022-06-14T18:05:16.514769Z"
    },
    "papermill": {
     "duration": 0.019303,
     "end_time": "2022-06-14T18:05:16.517608",
     "exception": false,
     "start_time": "2022-06-14T18:05:16.498305",
     "status": "completed"
    },
    "tags": []
   },
   "outputs": [
    {
     "data": {
      "text/plain": [
       "0.4452095044850259"
      ]
     },
     "execution_count": 7,
     "metadata": {},
     "output_type": "execute_result"
    }
   ],
   "source": [
    "# The % of users that came back the day after they installed\n",
    "df['retention_1'].mean()"
   ]
  },
  {
   "cell_type": "code",
   "execution_count": 8,
   "id": "d4e75ce2",
   "metadata": {
    "execution": {
     "iopub.execute_input": "2022-06-14T18:05:16.532042Z",
     "iopub.status.busy": "2022-06-14T18:05:16.531449Z",
     "iopub.status.idle": "2022-06-14T18:05:16.549445Z",
     "shell.execute_reply": "2022-06-14T18:05:16.548695Z"
    },
    "papermill": {
     "duration": 0.027712,
     "end_time": "2022-06-14T18:05:16.551516",
     "exception": false,
     "start_time": "2022-06-14T18:05:16.523804",
     "status": "completed"
    },
    "tags": []
   },
   "outputs": [
    {
     "data": {
      "text/plain": [
       "version\n",
       "gate_30    0.448188\n",
       "gate_40    0.442283\n",
       "Name: retention_1, dtype: float64"
      ]
     },
     "execution_count": 8,
     "metadata": {},
     "output_type": "execute_result"
    }
   ],
   "source": [
    "# Calculating 1-day retention for each AB-group\n",
    "df.groupby('version')['retention_1'].mean()"
   ]
  },
  {
   "cell_type": "code",
   "execution_count": 9,
   "id": "2c47f661",
   "metadata": {
    "execution": {
     "iopub.execute_input": "2022-06-14T18:05:16.566067Z",
     "iopub.status.busy": "2022-06-14T18:05:16.565525Z",
     "iopub.status.idle": "2022-06-14T18:05:27.410889Z",
     "shell.execute_reply": "2022-06-14T18:05:27.409650Z"
    },
    "papermill": {
     "duration": 10.855557,
     "end_time": "2022-06-14T18:05:27.413330",
     "exception": false,
     "start_time": "2022-06-14T18:05:16.557773",
     "status": "completed"
    },
    "tags": []
   },
   "outputs": [
    {
     "data": {
      "text/plain": [
       "<AxesSubplot:ylabel='Density'>"
      ]
     },
     "execution_count": 9,
     "metadata": {},
     "output_type": "execute_result"
    },
    {
     "data": {
      "image/png": "[encoded data removed]",
      "text/plain": [
       "<Figure size 432x288 with 1 Axes>"
      ]
     },
     "metadata": {
      "needs_background": "light"
     },
     "output_type": "display_data"
    }
   ],
   "source": [
    "# Creating an list with bootstrapped means for each AB-group\n",
    "boot_1d = []\n",
    "for i in range(500):\n",
    "    boot_mean = df.sample(frac=1,replace=True).groupby('version')['retention_1'].mean()\n",
    "    boot_1d.append(boot_mean)\n",
    "    \n",
    "# Transforming the list to a DataFrame\n",
    "boot_1d = pd.DataFrame(boot_1d).reset_index()\n",
    "boot_1d.drop('index',axis=1,inplace=True)\n",
    "\n",
    "# A Kernel Density Estimate plot of the bootstrap distributions\n",
    "boot_1d.plot(kind='density')"
   ]
  },
  {
   "cell_type": "code",
   "execution_count": 10,
   "id": "1d977230",
   "metadata": {
    "execution": {
     "iopub.execute_input": "2022-06-14T18:05:27.428641Z",
     "iopub.status.busy": "2022-06-14T18:05:27.428217Z",
     "iopub.status.idle": "2022-06-14T18:05:27.620536Z",
     "shell.execute_reply": "2022-06-14T18:05:27.619456Z"
    },
    "papermill": {
     "duration": 0.202751,
     "end_time": "2022-06-14T18:05:27.622903",
     "exception": false,
     "start_time": "2022-06-14T18:05:27.420152",
     "status": "completed"
    },
    "tags": []
   },
   "outputs": [
    {
     "data": {
      "image/png": "[encoded data removed]",
      "text/plain": [
       "<Figure size 432x288 with 1 Axes>"
      ]
     },
     "metadata": {
      "needs_background": "light"
     },
     "output_type": "display_data"
    }
   ],
   "source": [
    "# Adding a column with the % difference between the two AB-groups\n",
    "boot_1d['diff'] = (boot_1d['gate_30'] - boot_1d['gate_40'])/boot_1d['gate_40'] * 100\n",
    "\n",
    "# Ploting the bootstrap % difference\n",
    "ax = boot_1d['diff'].plot(kind='density')"
   ]
  },
  {
   "cell_type": "code",
   "execution_count": 11,
   "id": "7a12735c",
   "metadata": {
    "execution": {
     "iopub.execute_input": "2022-06-14T18:05:27.638795Z",
     "iopub.status.busy": "2022-06-14T18:05:27.638397Z",
     "iopub.status.idle": "2022-06-14T18:05:27.645336Z",
     "shell.execute_reply": "2022-06-14T18:05:27.644092Z"
    },
    "papermill": {
     "duration": 0.018336,
     "end_time": "2022-06-14T18:05:27.648370",
     "exception": false,
     "start_time": "2022-06-14T18:05:27.630034",
     "status": "completed"
    },
    "tags": []
   },
   "outputs": [
    {
     "name": "stdout",
     "output_type": "stream",
     "text": [
      "96.6%\n"
     ]
    }
   ],
   "source": [
    "# Calculating the probability that 1-day retention is greater when the gate is at level 30\n",
    "prob = (boot_1d['diff'] > 0).mean()\n",
    "\n",
    "# Pretty printing the probability\n",
    "print('{:.1%}'.format(prob))"
   ]
  },
  {
   "cell_type": "code",
   "execution_count": 12,
   "id": "d1cac3f9",
   "metadata": {
    "execution": {
     "iopub.execute_input": "2022-06-14T18:05:27.663913Z",
     "iopub.status.busy": "2022-06-14T18:05:27.663509Z",
     "iopub.status.idle": "2022-06-14T18:05:37.088067Z",
     "shell.execute_reply": "2022-06-14T18:05:37.086565Z"
    },
    "papermill": {
     "duration": 9.435245,
     "end_time": "2022-06-14T18:05:37.090611",
     "exception": false,
     "start_time": "2022-06-14T18:05:27.655366",
     "status": "completed"
    },
    "tags": []
   },
   "outputs": [
    {
     "name": "stdout",
     "output_type": "stream",
     "text": [
      "94.6%\n"
     ]
    },
    {
     "data": {
      "image/png": "[encoded data removed]",
      "text/plain": [
       "<Figure size 432x288 with 1 Axes>"
      ]
     },
     "metadata": {
      "needs_background": "light"
     },
     "output_type": "display_data"
    }
   ],
   "source": [
    "# Creating an list with bootstrapped means for each AB-group\n",
    "boot_1d = []\n",
    "for i in range(500):\n",
    "    boot_mean = df.sample(frac=1,replace=True).groupby('version')['retention_1'].mean()\n",
    "    boot_1d.append(boot_mean)\n",
    "    \n",
    "# Transforming the list to a DataFrame\n",
    "boot_1d = pd.DataFrame(boot_1d).reset_index()\n",
    "boot_1d.drop('index',axis=1,inplace=True)\n",
    "\n",
    "# Adding a column with the % difference between the two AB-groups\n",
    "boot_1d['diff'] = (boot_1d['gate_30'] - boot_1d['gate_40'])/boot_1d['gate_40'] * 100\n",
    "\n",
    "# Ploting the bootstrap % difference\n",
    "ax = boot_1d['diff'].plot(kind='density')\n",
    "\n",
    "# Calculating the probability that 1-day retention is greater when the gate is at level 30\n",
    "prob = (boot_1d['diff'] > 0).mean()\n",
    "\n",
    "# Pretty printing the probability\n",
    "print('{:.1%}'.format(prob))"
   ]
  },
  {
   "cell_type": "markdown",
   "id": "f31668d8",
   "metadata": {
    "papermill": {
     "duration": 0.007095,
     "end_time": "2022-06-14T18:05:37.105235",
     "exception": false,
     "start_time": "2022-06-14T18:05:37.098140",
     "status": "completed"
    },
    "tags": []
   },
   "source": [
    "# Chi-Squared Test"
   ]
  },
  {
   "cell_type": "code",
   "execution_count": null,
   "id": "f1bc39ab",
   "metadata": {
    "papermill": {
     "duration": 0.006985,
     "end_time": "2022-06-14T18:05:37.119753",
     "exception": false,
     "start_time": "2022-06-14T18:05:37.112768",
     "status": "completed"
    },
    "tags": []
   },
   "outputs": [],
   "source": []
  }
 ],
 "metadata": {
  "kernelspec": {
   "display_name": "Python 3",
   "language": "python",
   "name": "python3"
  },
  "language_info": {
   "codemirror_mode": {
    "name": "ipython",
    "version": 3
   },
   "file_extension": ".py",
   "mimetype": "text/x-python",
   "name": "python",
   "nbconvert_exporter": "python",
   "pygments_lexer": "ipython3",
   "version": "3.7.12"
  },
  "papermill": {
   "default_parameters": {},
   "duration": 33.8684,
   "end_time": "2022-06-14T18:05:38.050249",
   "environment_variables": {},
   "exception": null,
   "input_path": "__notebook__.ipynb",
   "output_path": "__notebook__.ipynb",
   "parameters": {},
   "start_time": "2022-06-14T18:05:04.181849",
   "version": "2.3.4"
  }
 },
 "nbformat": 4,
 "nbformat_minor": 5
}
